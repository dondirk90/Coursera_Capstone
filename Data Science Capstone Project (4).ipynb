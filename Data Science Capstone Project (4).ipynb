{
 "cells": [
  {
   "cell_type": "markdown",
   "metadata": {
    "collapsed": true
   },
   "source": [
    "This Notebook will mainly unsed for the final Capstone Project."
   ]
  },
  {
   "cell_type": "code",
   "execution_count": 1,
   "metadata": {},
   "outputs": [
    {
     "name": "stdout",
     "output_type": "stream",
     "text": [
      "Hello Capstone Project Course!\n"
     ]
    }
   ],
   "source": [
    "import pandas as pd\n",
    "import numpy as np\n",
    "print(\"Hello Capstone Project Course!\")"
   ]
  },
  {
   "cell_type": "markdown",
   "metadata": {},
   "source": [
    "Read the Wikipedia URL-information"
   ]
  },
  {
   "cell_type": "code",
   "execution_count": 2,
   "metadata": {},
   "outputs": [],
   "source": [
    "url = 'https://en.wikipedia.org/wiki/List_of_postal_codes_of_Canada:_M'\n",
    "dfs = pd.read_html(url)"
   ]
  },
  {
   "cell_type": "markdown",
   "metadata": {},
   "source": [
    "Use the HTML content to convert into pandas dataframe. \"Not assigned\" and \"nan\" is filtered out for the column \"Borough\"."
   ]
  },
  {
   "cell_type": "code",
   "execution_count": 3,
   "metadata": {},
   "outputs": [
    {
     "data": {
      "text/html": [
       "<div>\n",
       "<style scoped>\n",
       "    .dataframe tbody tr th:only-of-type {\n",
       "        vertical-align: middle;\n",
       "    }\n",
       "\n",
       "    .dataframe tbody tr th {\n",
       "        vertical-align: top;\n",
       "    }\n",
       "\n",
       "    .dataframe thead th {\n",
       "        text-align: right;\n",
       "    }\n",
       "</style>\n",
       "<table border=\"1\" class=\"dataframe\">\n",
       "  <thead>\n",
       "    <tr style=\"text-align: right;\">\n",
       "      <th></th>\n",
       "      <th>Postal Code</th>\n",
       "      <th>Borough</th>\n",
       "      <th>Neighbourhood</th>\n",
       "    </tr>\n",
       "  </thead>\n",
       "  <tbody>\n",
       "    <tr>\n",
       "      <th>2</th>\n",
       "      <td>M3A</td>\n",
       "      <td>North York</td>\n",
       "      <td>Parkwoods</td>\n",
       "    </tr>\n",
       "    <tr>\n",
       "      <th>3</th>\n",
       "      <td>M4A</td>\n",
       "      <td>North York</td>\n",
       "      <td>Victoria Village</td>\n",
       "    </tr>\n",
       "    <tr>\n",
       "      <th>4</th>\n",
       "      <td>M5A</td>\n",
       "      <td>Downtown Toronto</td>\n",
       "      <td>Regent Park, Harbourfront</td>\n",
       "    </tr>\n",
       "    <tr>\n",
       "      <th>5</th>\n",
       "      <td>M6A</td>\n",
       "      <td>North York</td>\n",
       "      <td>Lawrence Manor, Lawrence Heights</td>\n",
       "    </tr>\n",
       "    <tr>\n",
       "      <th>6</th>\n",
       "      <td>M7A</td>\n",
       "      <td>Downtown Toronto</td>\n",
       "      <td>Queen's Park, Ontario Provincial Government</td>\n",
       "    </tr>\n",
       "    <tr>\n",
       "      <th>...</th>\n",
       "      <td>...</td>\n",
       "      <td>...</td>\n",
       "      <td>...</td>\n",
       "    </tr>\n",
       "    <tr>\n",
       "      <th>160</th>\n",
       "      <td>M8X</td>\n",
       "      <td>Etobicoke</td>\n",
       "      <td>The Kingsway, Montgomery Road, Old Mill North</td>\n",
       "    </tr>\n",
       "    <tr>\n",
       "      <th>165</th>\n",
       "      <td>M4Y</td>\n",
       "      <td>Downtown Toronto</td>\n",
       "      <td>Church and Wellesley</td>\n",
       "    </tr>\n",
       "    <tr>\n",
       "      <th>168</th>\n",
       "      <td>M7Y</td>\n",
       "      <td>East Toronto</td>\n",
       "      <td>Business reply mail Processing Centre, South C...</td>\n",
       "    </tr>\n",
       "    <tr>\n",
       "      <th>169</th>\n",
       "      <td>M8Y</td>\n",
       "      <td>Etobicoke</td>\n",
       "      <td>Old Mill South, King's Mill Park, Sunnylea, Hu...</td>\n",
       "    </tr>\n",
       "    <tr>\n",
       "      <th>178</th>\n",
       "      <td>M8Z</td>\n",
       "      <td>Etobicoke</td>\n",
       "      <td>Mimico NW, The Queensway West, South of Bloor,...</td>\n",
       "    </tr>\n",
       "  </tbody>\n",
       "</table>\n",
       "<p>103 rows × 3 columns</p>\n",
       "</div>"
      ],
      "text/plain": [
       "    Postal Code           Borough  \\\n",
       "2           M3A        North York   \n",
       "3           M4A        North York   \n",
       "4           M5A  Downtown Toronto   \n",
       "5           M6A        North York   \n",
       "6           M7A  Downtown Toronto   \n",
       "..          ...               ...   \n",
       "160         M8X         Etobicoke   \n",
       "165         M4Y  Downtown Toronto   \n",
       "168         M7Y      East Toronto   \n",
       "169         M8Y         Etobicoke   \n",
       "178         M8Z         Etobicoke   \n",
       "\n",
       "                                         Neighbourhood  \n",
       "2                                            Parkwoods  \n",
       "3                                     Victoria Village  \n",
       "4                            Regent Park, Harbourfront  \n",
       "5                     Lawrence Manor, Lawrence Heights  \n",
       "6          Queen's Park, Ontario Provincial Government  \n",
       "..                                                 ...  \n",
       "160      The Kingsway, Montgomery Road, Old Mill North  \n",
       "165                               Church and Wellesley  \n",
       "168  Business reply mail Processing Centre, South C...  \n",
       "169  Old Mill South, King's Mill Park, Sunnylea, Hu...  \n",
       "178  Mimico NW, The Queensway West, South of Bloor,...  \n",
       "\n",
       "[103 rows x 3 columns]"
      ]
     },
     "execution_count": 3,
     "metadata": {},
     "output_type": "execute_result"
    }
   ],
   "source": [
    "df = dfs[0]\n",
    "df.where(df[\"Borough\"]!=\"Not assigned\", inplace=True)\n",
    "df.dropna(subset=['Borough'], inplace=True)\n",
    "df"
   ]
  },
  {
   "cell_type": "markdown",
   "metadata": {},
   "source": [
    "Use the .shape method to print the number of rows of the dataframe"
   ]
  },
  {
   "cell_type": "code",
   "execution_count": 4,
   "metadata": {},
   "outputs": [
    {
     "data": {
      "text/plain": [
       "(103, 3)"
      ]
     },
     "execution_count": 4,
     "metadata": {},
     "output_type": "execute_result"
    }
   ],
   "source": [
    "df.shape"
   ]
  },
  {
   "cell_type": "markdown",
   "metadata": {},
   "source": [
    "This is to import the csv-file with the langitute information"
   ]
  },
  {
   "cell_type": "code",
   "execution_count": 5,
   "metadata": {},
   "outputs": [
    {
     "data": {
      "text/html": [
       "<div>\n",
       "<style scoped>\n",
       "    .dataframe tbody tr th:only-of-type {\n",
       "        vertical-align: middle;\n",
       "    }\n",
       "\n",
       "    .dataframe tbody tr th {\n",
       "        vertical-align: top;\n",
       "    }\n",
       "\n",
       "    .dataframe thead th {\n",
       "        text-align: right;\n",
       "    }\n",
       "</style>\n",
       "<table border=\"1\" class=\"dataframe\">\n",
       "  <thead>\n",
       "    <tr style=\"text-align: right;\">\n",
       "      <th></th>\n",
       "      <th>Postal Code</th>\n",
       "      <th>Latitude</th>\n",
       "      <th>Longitude</th>\n",
       "    </tr>\n",
       "  </thead>\n",
       "  <tbody>\n",
       "    <tr>\n",
       "      <th>0</th>\n",
       "      <td>M1B</td>\n",
       "      <td>43.806686</td>\n",
       "      <td>-79.194353</td>\n",
       "    </tr>\n",
       "    <tr>\n",
       "      <th>1</th>\n",
       "      <td>M1C</td>\n",
       "      <td>43.784535</td>\n",
       "      <td>-79.160497</td>\n",
       "    </tr>\n",
       "    <tr>\n",
       "      <th>2</th>\n",
       "      <td>M1E</td>\n",
       "      <td>43.763573</td>\n",
       "      <td>-79.188711</td>\n",
       "    </tr>\n",
       "    <tr>\n",
       "      <th>3</th>\n",
       "      <td>M1G</td>\n",
       "      <td>43.770992</td>\n",
       "      <td>-79.216917</td>\n",
       "    </tr>\n",
       "    <tr>\n",
       "      <th>4</th>\n",
       "      <td>M1H</td>\n",
       "      <td>43.773136</td>\n",
       "      <td>-79.239476</td>\n",
       "    </tr>\n",
       "    <tr>\n",
       "      <th>...</th>\n",
       "      <td>...</td>\n",
       "      <td>...</td>\n",
       "      <td>...</td>\n",
       "    </tr>\n",
       "    <tr>\n",
       "      <th>98</th>\n",
       "      <td>M9N</td>\n",
       "      <td>43.706876</td>\n",
       "      <td>-79.518188</td>\n",
       "    </tr>\n",
       "    <tr>\n",
       "      <th>99</th>\n",
       "      <td>M9P</td>\n",
       "      <td>43.696319</td>\n",
       "      <td>-79.532242</td>\n",
       "    </tr>\n",
       "    <tr>\n",
       "      <th>100</th>\n",
       "      <td>M9R</td>\n",
       "      <td>43.688905</td>\n",
       "      <td>-79.554724</td>\n",
       "    </tr>\n",
       "    <tr>\n",
       "      <th>101</th>\n",
       "      <td>M9V</td>\n",
       "      <td>43.739416</td>\n",
       "      <td>-79.588437</td>\n",
       "    </tr>\n",
       "    <tr>\n",
       "      <th>102</th>\n",
       "      <td>M9W</td>\n",
       "      <td>43.706748</td>\n",
       "      <td>-79.594054</td>\n",
       "    </tr>\n",
       "  </tbody>\n",
       "</table>\n",
       "<p>103 rows × 3 columns</p>\n",
       "</div>"
      ],
      "text/plain": [
       "    Postal Code   Latitude  Longitude\n",
       "0           M1B  43.806686 -79.194353\n",
       "1           M1C  43.784535 -79.160497\n",
       "2           M1E  43.763573 -79.188711\n",
       "3           M1G  43.770992 -79.216917\n",
       "4           M1H  43.773136 -79.239476\n",
       "..          ...        ...        ...\n",
       "98          M9N  43.706876 -79.518188\n",
       "99          M9P  43.696319 -79.532242\n",
       "100         M9R  43.688905 -79.554724\n",
       "101         M9V  43.739416 -79.588437\n",
       "102         M9W  43.706748 -79.594054\n",
       "\n",
       "[103 rows x 3 columns]"
      ]
     },
     "execution_count": 5,
     "metadata": {},
     "output_type": "execute_result"
    }
   ],
   "source": [
    "df_geo = pd.read_csv(\"https://cocl.us/Geospatial_data\")\n",
    "df_geo"
   ]
  },
  {
   "cell_type": "markdown",
   "metadata": {},
   "source": [
    "Now join with existing dataframe"
   ]
  },
  {
   "cell_type": "code",
   "execution_count": 6,
   "metadata": {},
   "outputs": [
    {
     "data": {
      "text/html": [
       "<div>\n",
       "<style scoped>\n",
       "    .dataframe tbody tr th:only-of-type {\n",
       "        vertical-align: middle;\n",
       "    }\n",
       "\n",
       "    .dataframe tbody tr th {\n",
       "        vertical-align: top;\n",
       "    }\n",
       "\n",
       "    .dataframe thead th {\n",
       "        text-align: right;\n",
       "    }\n",
       "</style>\n",
       "<table border=\"1\" class=\"dataframe\">\n",
       "  <thead>\n",
       "    <tr style=\"text-align: right;\">\n",
       "      <th></th>\n",
       "      <th>Postal Code</th>\n",
       "      <th>Borough</th>\n",
       "      <th>Neighbourhood</th>\n",
       "      <th>Latitude</th>\n",
       "      <th>Longitude</th>\n",
       "    </tr>\n",
       "  </thead>\n",
       "  <tbody>\n",
       "    <tr>\n",
       "      <th>0</th>\n",
       "      <td>M3A</td>\n",
       "      <td>North York</td>\n",
       "      <td>Parkwoods</td>\n",
       "      <td>43.753259</td>\n",
       "      <td>-79.329656</td>\n",
       "    </tr>\n",
       "    <tr>\n",
       "      <th>1</th>\n",
       "      <td>M4A</td>\n",
       "      <td>North York</td>\n",
       "      <td>Victoria Village</td>\n",
       "      <td>43.725882</td>\n",
       "      <td>-79.315572</td>\n",
       "    </tr>\n",
       "    <tr>\n",
       "      <th>2</th>\n",
       "      <td>M5A</td>\n",
       "      <td>Downtown Toronto</td>\n",
       "      <td>Regent Park, Harbourfront</td>\n",
       "      <td>43.654260</td>\n",
       "      <td>-79.360636</td>\n",
       "    </tr>\n",
       "    <tr>\n",
       "      <th>3</th>\n",
       "      <td>M6A</td>\n",
       "      <td>North York</td>\n",
       "      <td>Lawrence Manor, Lawrence Heights</td>\n",
       "      <td>43.718518</td>\n",
       "      <td>-79.464763</td>\n",
       "    </tr>\n",
       "    <tr>\n",
       "      <th>4</th>\n",
       "      <td>M7A</td>\n",
       "      <td>Downtown Toronto</td>\n",
       "      <td>Queen's Park, Ontario Provincial Government</td>\n",
       "      <td>43.662301</td>\n",
       "      <td>-79.389494</td>\n",
       "    </tr>\n",
       "    <tr>\n",
       "      <th>...</th>\n",
       "      <td>...</td>\n",
       "      <td>...</td>\n",
       "      <td>...</td>\n",
       "      <td>...</td>\n",
       "      <td>...</td>\n",
       "    </tr>\n",
       "    <tr>\n",
       "      <th>98</th>\n",
       "      <td>M8X</td>\n",
       "      <td>Etobicoke</td>\n",
       "      <td>The Kingsway, Montgomery Road, Old Mill North</td>\n",
       "      <td>43.653654</td>\n",
       "      <td>-79.506944</td>\n",
       "    </tr>\n",
       "    <tr>\n",
       "      <th>99</th>\n",
       "      <td>M4Y</td>\n",
       "      <td>Downtown Toronto</td>\n",
       "      <td>Church and Wellesley</td>\n",
       "      <td>43.665860</td>\n",
       "      <td>-79.383160</td>\n",
       "    </tr>\n",
       "    <tr>\n",
       "      <th>100</th>\n",
       "      <td>M7Y</td>\n",
       "      <td>East Toronto</td>\n",
       "      <td>Business reply mail Processing Centre, South C...</td>\n",
       "      <td>43.662744</td>\n",
       "      <td>-79.321558</td>\n",
       "    </tr>\n",
       "    <tr>\n",
       "      <th>101</th>\n",
       "      <td>M8Y</td>\n",
       "      <td>Etobicoke</td>\n",
       "      <td>Old Mill South, King's Mill Park, Sunnylea, Hu...</td>\n",
       "      <td>43.636258</td>\n",
       "      <td>-79.498509</td>\n",
       "    </tr>\n",
       "    <tr>\n",
       "      <th>102</th>\n",
       "      <td>M8Z</td>\n",
       "      <td>Etobicoke</td>\n",
       "      <td>Mimico NW, The Queensway West, South of Bloor,...</td>\n",
       "      <td>43.628841</td>\n",
       "      <td>-79.520999</td>\n",
       "    </tr>\n",
       "  </tbody>\n",
       "</table>\n",
       "<p>103 rows × 5 columns</p>\n",
       "</div>"
      ],
      "text/plain": [
       "    Postal Code           Borough  \\\n",
       "0           M3A        North York   \n",
       "1           M4A        North York   \n",
       "2           M5A  Downtown Toronto   \n",
       "3           M6A        North York   \n",
       "4           M7A  Downtown Toronto   \n",
       "..          ...               ...   \n",
       "98          M8X         Etobicoke   \n",
       "99          M4Y  Downtown Toronto   \n",
       "100         M7Y      East Toronto   \n",
       "101         M8Y         Etobicoke   \n",
       "102         M8Z         Etobicoke   \n",
       "\n",
       "                                         Neighbourhood   Latitude  Longitude  \n",
       "0                                            Parkwoods  43.753259 -79.329656  \n",
       "1                                     Victoria Village  43.725882 -79.315572  \n",
       "2                            Regent Park, Harbourfront  43.654260 -79.360636  \n",
       "3                     Lawrence Manor, Lawrence Heights  43.718518 -79.464763  \n",
       "4          Queen's Park, Ontario Provincial Government  43.662301 -79.389494  \n",
       "..                                                 ...        ...        ...  \n",
       "98       The Kingsway, Montgomery Road, Old Mill North  43.653654 -79.506944  \n",
       "99                                Church and Wellesley  43.665860 -79.383160  \n",
       "100  Business reply mail Processing Centre, South C...  43.662744 -79.321558  \n",
       "101  Old Mill South, King's Mill Park, Sunnylea, Hu...  43.636258 -79.498509  \n",
       "102  Mimico NW, The Queensway West, South of Bloor,...  43.628841 -79.520999  \n",
       "\n",
       "[103 rows x 5 columns]"
      ]
     },
     "execution_count": 6,
     "metadata": {},
     "output_type": "execute_result"
    }
   ],
   "source": [
    "df = df.merge(df_geo, on ='Postal Code', how='left')\n",
    "df"
   ]
  },
  {
   "cell_type": "markdown",
   "metadata": {},
   "source": [
    "Now explore the data for better visualization"
   ]
  },
  {
   "cell_type": "code",
   "execution_count": 7,
   "metadata": {},
   "outputs": [
    {
     "data": {
      "text/plain": [
       "array(['North York', 'Downtown Toronto', 'Etobicoke', 'Scarborough',\n",
       "       'East York', 'York', 'East Toronto', 'West Toronto',\n",
       "       'Central Toronto', 'Mississauga'], dtype=object)"
      ]
     },
     "execution_count": 7,
     "metadata": {},
     "output_type": "execute_result"
    }
   ],
   "source": [
    "df.Borough.unique()"
   ]
  },
  {
   "cell_type": "markdown",
   "metadata": {},
   "source": [
    "Import all necessary libraries"
   ]
  },
  {
   "cell_type": "code",
   "execution_count": 9,
   "metadata": {},
   "outputs": [
    {
     "name": "stdout",
     "output_type": "stream",
     "text": [
      "Collecting folium\n",
      "  Downloading folium-0.11.0-py2.py3-none-any.whl (93 kB)\n",
      "\u001b[K     |████████████████████████████████| 93 kB 3.6 MB/s  eta 0:00:01\n",
      "\u001b[?25hCollecting branca>=0.3.0\n",
      "  Downloading branca-0.4.1-py3-none-any.whl (24 kB)\n",
      "Requirement already satisfied: jinja2>=2.9 in /opt/conda/envs/Python-3.7-main/lib/python3.7/site-packages (from folium) (2.11.2)\n",
      "Requirement already satisfied: numpy in /opt/conda/envs/Python-3.7-main/lib/python3.7/site-packages (from folium) (1.18.5)\n",
      "Requirement already satisfied: requests in /opt/conda/envs/Python-3.7-main/lib/python3.7/site-packages (from folium) (2.24.0)\n",
      "Requirement already satisfied: MarkupSafe>=0.23 in /opt/conda/envs/Python-3.7-main/lib/python3.7/site-packages (from jinja2>=2.9->folium) (1.1.1)\n",
      "Requirement already satisfied: urllib3!=1.25.0,!=1.25.1,<1.26,>=1.21.1 in /opt/conda/envs/Python-3.7-main/lib/python3.7/site-packages (from requests->folium) (1.25.9)\n",
      "Requirement already satisfied: chardet<4,>=3.0.2 in /opt/conda/envs/Python-3.7-main/lib/python3.7/site-packages (from requests->folium) (3.0.4)\n",
      "Requirement already satisfied: idna<3,>=2.5 in /opt/conda/envs/Python-3.7-main/lib/python3.7/site-packages (from requests->folium) (2.9)\n",
      "Requirement already satisfied: certifi>=2017.4.17 in /opt/conda/envs/Python-3.7-main/lib/python3.7/site-packages (from requests->folium) (2020.6.20)\n",
      "Installing collected packages: branca, folium\n",
      "Successfully installed branca-0.4.1 folium-0.11.0\n",
      "Note: you may need to restart the kernel to use updated packages.\n"
     ]
    }
   ],
   "source": [
    "pip install folium"
   ]
  },
  {
   "cell_type": "code",
   "execution_count": 10,
   "metadata": {},
   "outputs": [
    {
     "name": "stdout",
     "output_type": "stream",
     "text": [
      "Libraries imported.\n"
     ]
    }
   ],
   "source": [
    "import json # library to handle JSON files\n",
    "\n",
    "#!conda install -c conda-forge geopy --yes # uncomment this line if you haven't completed the Foursquare API lab\n",
    "from geopy.geocoders import Nominatim # convert an address into latitude and longitude values\n",
    "\n",
    "import requests # library to handle requests\n",
    "from pandas.io.json import json_normalize # tranform JSON file into a pandas dataframe\n",
    "\n",
    "# Matplotlib and associated plotting modules\n",
    "import matplotlib.cm as cm\n",
    "import matplotlib.colors as colors\n",
    "\n",
    "# import k-means from clustering stage\n",
    "from sklearn.cluster import KMeans\n",
    "\n",
    "#!conda install -c conda-forge folium=0.5.0 --yes # uncomment this line if you haven't completed the Foursquare API lab\n",
    "import folium # map rendering library\n",
    "\n",
    "print('Libraries imported.')"
   ]
  },
  {
   "cell_type": "markdown",
   "metadata": {},
   "source": [
    "Get location data of Toronto"
   ]
  },
  {
   "cell_type": "code",
   "execution_count": 11,
   "metadata": {},
   "outputs": [
    {
     "name": "stdout",
     "output_type": "stream",
     "text": [
      "The geograpical coordinate of Toronto are 43.6534817, -79.3839347.\n"
     ]
    }
   ],
   "source": [
    "address = 'Toronto'\n",
    "\n",
    "geolocator = Nominatim(user_agent=\"toronto_explorer\")\n",
    "location = geolocator.geocode(address)\n",
    "latitude = location.latitude\n",
    "longitude = location.longitude\n",
    "print('The geograpical coordinate of Toronto are {}, {}.'.format(latitude, longitude))"
   ]
  },
  {
   "cell_type": "markdown",
   "metadata": {},
   "source": [
    "Create Map of Toronto"
   ]
  },
  {
   "cell_type": "code",
   "execution_count": 12,
   "metadata": {},
   "outputs": [
    {
     "data": {
      "text/html": [
       "<div style=\"width:100%;\"><div style=\"position:relative;width:100%;height:0;padding-bottom:60%;\"><span style=\"color:#565656\">Make this Notebook Trusted to load map: File -> Trust Notebook</span><iframe src=\"about:blank\" style=\"position:absolute;width:100%;height:100%;left:0;top:0;border:none !important;\" data-html=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 onload=\"this.contentDocument.open();this.contentDocument.write(atob(this.getAttribute('data-html')));this.contentDocument.close();\" allowfullscreen webkitallowfullscreen mozallowfullscreen></iframe></div></div>"
      ],
      "text/plain": [
       "<folium.folium.Map at 0x7fbf39516d10>"
      ]
     },
     "execution_count": 12,
     "metadata": {},
     "output_type": "execute_result"
    }
   ],
   "source": [
    "# create map of Toronto using latitude and longitude values\n",
    "map_toronto = folium.Map(location=[latitude, longitude], zoom_start=10)\n",
    "\n",
    "# add markers to map\n",
    "for lat, lng, borough, neighbourhood in zip(df['Latitude'], df['Longitude'], df['Borough'], df['Neighbourhood']):\n",
    "    label = '{}, {}'.format(neighbourhood, borough)\n",
    "    label = folium.Popup(label, parse_html=True)\n",
    "    folium.CircleMarker(\n",
    "        [lat, lng],\n",
    "        radius=5,\n",
    "        popup=label,\n",
    "        color='blue',\n",
    "        fill=True,\n",
    "        fill_color='#3186cc',\n",
    "        fill_opacity=0.7,\n",
    "        parse_html=False).add_to(map_toronto)  \n",
    "    \n",
    "map_toronto"
   ]
  },
  {
   "cell_type": "markdown",
   "metadata": {},
   "source": [
    "We see all the observations graphically throughout the map"
   ]
  },
  {
   "cell_type": "markdown",
   "metadata": {},
   "source": [
    "Let's cluster the Neighbourhoods in the Borough \"York\""
   ]
  },
  {
   "cell_type": "code",
   "execution_count": 13,
   "metadata": {},
   "outputs": [
    {
     "data": {
      "text/html": [
       "<div>\n",
       "<style scoped>\n",
       "    .dataframe tbody tr th:only-of-type {\n",
       "        vertical-align: middle;\n",
       "    }\n",
       "\n",
       "    .dataframe tbody tr th {\n",
       "        vertical-align: top;\n",
       "    }\n",
       "\n",
       "    .dataframe thead th {\n",
       "        text-align: right;\n",
       "    }\n",
       "</style>\n",
       "<table border=\"1\" class=\"dataframe\">\n",
       "  <thead>\n",
       "    <tr style=\"text-align: right;\">\n",
       "      <th></th>\n",
       "      <th>Postal Code</th>\n",
       "      <th>Borough</th>\n",
       "      <th>Neighbourhood</th>\n",
       "      <th>Latitude</th>\n",
       "      <th>Longitude</th>\n",
       "    </tr>\n",
       "  </thead>\n",
       "  <tbody>\n",
       "    <tr>\n",
       "      <th>0</th>\n",
       "      <td>M3A</td>\n",
       "      <td>North York</td>\n",
       "      <td>Parkwoods</td>\n",
       "      <td>43.753259</td>\n",
       "      <td>-79.329656</td>\n",
       "    </tr>\n",
       "    <tr>\n",
       "      <th>1</th>\n",
       "      <td>M4A</td>\n",
       "      <td>North York</td>\n",
       "      <td>Victoria Village</td>\n",
       "      <td>43.725882</td>\n",
       "      <td>-79.315572</td>\n",
       "    </tr>\n",
       "    <tr>\n",
       "      <th>2</th>\n",
       "      <td>M6A</td>\n",
       "      <td>North York</td>\n",
       "      <td>Lawrence Manor, Lawrence Heights</td>\n",
       "      <td>43.718518</td>\n",
       "      <td>-79.464763</td>\n",
       "    </tr>\n",
       "    <tr>\n",
       "      <th>3</th>\n",
       "      <td>M3B</td>\n",
       "      <td>North York</td>\n",
       "      <td>Don Mills</td>\n",
       "      <td>43.745906</td>\n",
       "      <td>-79.352188</td>\n",
       "    </tr>\n",
       "    <tr>\n",
       "      <th>4</th>\n",
       "      <td>M4B</td>\n",
       "      <td>East York</td>\n",
       "      <td>Parkview Hill, Woodbine Gardens</td>\n",
       "      <td>43.706397</td>\n",
       "      <td>-79.309937</td>\n",
       "    </tr>\n",
       "  </tbody>\n",
       "</table>\n",
       "</div>"
      ],
      "text/plain": [
       "  Postal Code     Borough                     Neighbourhood   Latitude  \\\n",
       "0         M3A  North York                         Parkwoods  43.753259   \n",
       "1         M4A  North York                  Victoria Village  43.725882   \n",
       "2         M6A  North York  Lawrence Manor, Lawrence Heights  43.718518   \n",
       "3         M3B  North York                         Don Mills  43.745906   \n",
       "4         M4B   East York   Parkview Hill, Woodbine Gardens  43.706397   \n",
       "\n",
       "   Longitude  \n",
       "0 -79.329656  \n",
       "1 -79.315572  \n",
       "2 -79.464763  \n",
       "3 -79.352188  \n",
       "4 -79.309937  "
      ]
     },
     "execution_count": 13,
     "metadata": {},
     "output_type": "execute_result"
    }
   ],
   "source": [
    "york_data = df[df['Borough'].str.contains(\"York\")].reset_index(drop=True)\n",
    "york_data.head()"
   ]
  },
  {
   "cell_type": "markdown",
   "metadata": {},
   "source": [
    "Let's get the geographical coordinates of York."
   ]
  },
  {
   "cell_type": "code",
   "execution_count": 15,
   "metadata": {},
   "outputs": [
    {
     "name": "stdout",
     "output_type": "stream",
     "text": [
      "The geograpical coordinate of York are 43.6896191, -79.479188.\n"
     ]
    }
   ],
   "source": [
    "address = 'York, Toronto'\n",
    "\n",
    "geolocator = Nominatim(user_agent=\"toronto_explorer\")\n",
    "location = geolocator.geocode(address)\n",
    "latitude = location.latitude\n",
    "longitude = location.longitude\n",
    "print('The geograpical coordinate of York are {}, {}.'.format(latitude, longitude))"
   ]
  },
  {
   "cell_type": "markdown",
   "metadata": {},
   "source": [
    "Create Map of York"
   ]
  },
  {
   "cell_type": "code",
   "execution_count": 18,
   "metadata": {},
   "outputs": [
    {
     "data": {
      "text/html": [
       "<div style=\"width:100%;\"><div style=\"position:relative;width:100%;height:0;padding-bottom:60%;\"><span style=\"color:#565656\">Make this Notebook Trusted to load map: File -> Trust Notebook</span><iframe src=\"about:blank\" style=\"position:absolute;width:100%;height:100%;left:0;top:0;border:none !important;\" data-html=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 onload=\"this.contentDocument.open();this.contentDocument.write(atob(this.getAttribute('data-html')));this.contentDocument.close();\" allowfullscreen webkitallowfullscreen mozallowfullscreen></iframe></div></div>"
      ],
      "text/plain": [
       "<folium.folium.Map at 0x7fbf3828c6d0>"
      ]
     },
     "execution_count": 18,
     "metadata": {},
     "output_type": "execute_result"
    }
   ],
   "source": [
    "# create map of York using latitude and longitude values\n",
    "map_york = folium.Map(location=[latitude, longitude], zoom_start=10)\n",
    "\n",
    "# add markers to map\n",
    "for lat, lng, borough, neighbourhood in zip(york_data['Latitude'], york_data['Longitude'], york_data['Borough'], york_data['Neighbourhood']):\n",
    "    label = '{}, {}'.format(neighbourhood, borough)\n",
    "    label = folium.Popup(label, parse_html=True)\n",
    "    folium.CircleMarker(\n",
    "        [lat, lng],\n",
    "        radius=5,\n",
    "        popup=label,\n",
    "        color='blue',\n",
    "        fill=True,\n",
    "        fill_color='#3186cc',\n",
    "        fill_opacity=0.7,\n",
    "        parse_html=False).add_to(map_york)  \n",
    "    \n",
    "map_york"
   ]
  },
  {
   "cell_type": "markdown",
   "metadata": {},
   "source": [
    "We notice that York is in the northern part of town"
   ]
  },
  {
   "cell_type": "markdown",
   "metadata": {},
   "source": [
    "Now let's explore the area!"
   ]
  },
  {
   "cell_type": "code",
   "execution_count": 31,
   "metadata": {},
   "outputs": [
    {
     "name": "stdout",
     "output_type": "stream",
     "text": [
      "Your credentails:\n",
      "CLIENT_ID: OSEO0CTWLPBA5D4C3SUQ55EE1JLPPPAIYN3RYAECQUI10L3U\n",
      "CLIENT_SECRET:ENUQSRXBH00V30AEHILA3QP5HLCXHRDH2HNVQFMG5HIAGHGX\n"
     ]
    }
   ],
   "source": [
    "CLIENT_ID = 'OSEO0CTWLPBA5D4C3SUQ55EE1JLPPPAIYN3RYAECQUI10L3U' # your Foursquare ID\n",
    "CLIENT_SECRET = 'ENUQSRXBH00V30AEHILA3QP5HLCXHRDH2HNVQFMG5HIAGHGX' # your Foursquare Secret\n",
    "ACCESS_TOKEN = 'UNOFVKGGOI1JNSOCH43MV2LQHGFGUG4CBTED51J53A4M0UEA' # your FourSquare Access Token\n",
    "VERSION = '20180604'\n",
    "LIMIT = 30\n",
    "print('Your credentails:')\n",
    "print('CLIENT_ID: ' + CLIENT_ID)\n",
    "print('CLIENT_SECRET:' + CLIENT_SECRET)"
   ]
  },
  {
   "cell_type": "markdown",
   "metadata": {},
   "source": [
    "Assume we are looking for some Food on Wilson Avenue"
   ]
  },
  {
   "cell_type": "code",
   "execution_count": 54,
   "metadata": {},
   "outputs": [
    {
     "name": "stdout",
     "output_type": "stream",
     "text": [
      "43.7320723 -79.4592056\n"
     ]
    }
   ],
   "source": [
    "address = '1 Wilson Avenue, York, Toronto'\n",
    "\n",
    "geolocator = Nominatim(user_agent=\"foursquare_agent\")\n",
    "location = geolocator.geocode(address)\n",
    "latitude = location.latitude\n",
    "longitude = location.longitude\n",
    "print(latitude, longitude)"
   ]
  },
  {
   "cell_type": "markdown",
   "metadata": {},
   "source": [
    "Now let's look for some Chinese food in York"
   ]
  },
  {
   "cell_type": "code",
   "execution_count": 47,
   "metadata": {},
   "outputs": [
    {
     "name": "stdout",
     "output_type": "stream",
     "text": [
      "Chinese .... OK!\n"
     ]
    }
   ],
   "source": [
    "search_query = 'Chinese'\n",
    "radius = 1000\n",
    "print(search_query + ' .... OK!')"
   ]
  },
  {
   "cell_type": "markdown",
   "metadata": {},
   "source": [
    "Define the corresponding URL"
   ]
  },
  {
   "cell_type": "code",
   "execution_count": 55,
   "metadata": {},
   "outputs": [
    {
     "data": {
      "text/plain": [
       "'https://api.foursquare.com/v2/venues/search?client_id=OSEO0CTWLPBA5D4C3SUQ55EE1JLPPPAIYN3RYAECQUI10L3U&client_secret=ENUQSRXBH00V30AEHILA3QP5HLCXHRDH2HNVQFMG5HIAGHGX&ll=43.7320723,-79.4592056&oauth_token=UNOFVKGGOI1JNSOCH43MV2LQHGFGUG4CBTED51J53A4M0UEA&v=20180604&query=Chinese&radius=1000&limit=30'"
      ]
     },
     "execution_count": 55,
     "metadata": {},
     "output_type": "execute_result"
    }
   ],
   "source": [
    "url = 'https://api.foursquare.com/v2/venues/search?client_id={}&client_secret={}&ll={},{}&oauth_token={}&v={}&query={}&radius={}&limit={}'.format(CLIENT_ID, CLIENT_SECRET, latitude, longitude,ACCESS_TOKEN, VERSION, search_query, radius, LIMIT)\n",
    "url"
   ]
  },
  {
   "cell_type": "markdown",
   "metadata": {},
   "source": [
    "Send the GET Request and examine the results"
   ]
  },
  {
   "cell_type": "code",
   "execution_count": 56,
   "metadata": {},
   "outputs": [
    {
     "data": {
      "text/plain": [
       "{'meta': {'code': 200, 'requestId': '5fc3ee676985792a449f6f65'},\n",
       " 'notifications': [{'type': 'notificationTray', 'item': {'unreadCount': 0}}],\n",
       " 'response': {'venues': [{'id': '4db8b8211e7206c23d0ece7d',\n",
       "    'name': 'Blossom Chinese Restaurant',\n",
       "    'location': {'lat': 43.73082072410727,\n",
       "     'lng': -79.46567250883152,\n",
       "     'labeledLatLngs': [{'label': 'display',\n",
       "       'lat': 43.73082072410727,\n",
       "       'lng': -79.46567250883152}],\n",
       "     'distance': 538,\n",
       "     'cc': 'CA',\n",
       "     'city': 'Toronto',\n",
       "     'state': 'ON',\n",
       "     'country': 'Canada',\n",
       "     'formattedAddress': ['Toronto ON', 'Canada']},\n",
       "    'categories': [{'id': '4bf58dd8d48988d145941735',\n",
       "      'name': 'Chinese Restaurant',\n",
       "      'pluralName': 'Chinese Restaurants',\n",
       "      'shortName': 'Chinese',\n",
       "      'icon': {'prefix': 'https://ss3.4sqi.net/img/categories_v2/food/asian_',\n",
       "       'suffix': '.png'},\n",
       "      'primary': True}],\n",
       "    'referralId': 'v-1606676071',\n",
       "    'hasPerk': False}]}}"
      ]
     },
     "execution_count": 56,
     "metadata": {},
     "output_type": "execute_result"
    }
   ],
   "source": [
    "results = requests.get(url).json()\n",
    "results"
   ]
  },
  {
   "cell_type": "markdown",
   "metadata": {},
   "source": [
    "Get relevant part of JSON and transform it into a pandas dataframe"
   ]
  },
  {
   "cell_type": "code",
   "execution_count": 57,
   "metadata": {},
   "outputs": [
    {
     "name": "stderr",
     "output_type": "stream",
     "text": [
      "/opt/conda/envs/Python-3.7-main/lib/python3.7/site-packages/ipykernel/__main__.py:5: FutureWarning: pandas.io.json.json_normalize is deprecated, use pandas.json_normalize instead\n"
     ]
    },
    {
     "data": {
      "text/html": [
       "<div>\n",
       "<style scoped>\n",
       "    .dataframe tbody tr th:only-of-type {\n",
       "        vertical-align: middle;\n",
       "    }\n",
       "\n",
       "    .dataframe tbody tr th {\n",
       "        vertical-align: top;\n",
       "    }\n",
       "\n",
       "    .dataframe thead th {\n",
       "        text-align: right;\n",
       "    }\n",
       "</style>\n",
       "<table border=\"1\" class=\"dataframe\">\n",
       "  <thead>\n",
       "    <tr style=\"text-align: right;\">\n",
       "      <th></th>\n",
       "      <th>id</th>\n",
       "      <th>name</th>\n",
       "      <th>categories</th>\n",
       "      <th>referralId</th>\n",
       "      <th>hasPerk</th>\n",
       "      <th>location.lat</th>\n",
       "      <th>location.lng</th>\n",
       "      <th>location.labeledLatLngs</th>\n",
       "      <th>location.distance</th>\n",
       "      <th>location.cc</th>\n",
       "      <th>location.city</th>\n",
       "      <th>location.state</th>\n",
       "      <th>location.country</th>\n",
       "      <th>location.formattedAddress</th>\n",
       "    </tr>\n",
       "  </thead>\n",
       "  <tbody>\n",
       "    <tr>\n",
       "      <th>0</th>\n",
       "      <td>4db8b8211e7206c23d0ece7d</td>\n",
       "      <td>Blossom Chinese Restaurant</td>\n",
       "      <td>[{'id': '4bf58dd8d48988d145941735', 'name': 'C...</td>\n",
       "      <td>v-1606676071</td>\n",
       "      <td>False</td>\n",
       "      <td>43.730821</td>\n",
       "      <td>-79.465673</td>\n",
       "      <td>[{'label': 'display', 'lat': 43.73082072410727...</td>\n",
       "      <td>538</td>\n",
       "      <td>CA</td>\n",
       "      <td>Toronto</td>\n",
       "      <td>ON</td>\n",
       "      <td>Canada</td>\n",
       "      <td>[Toronto ON, Canada]</td>\n",
       "    </tr>\n",
       "  </tbody>\n",
       "</table>\n",
       "</div>"
      ],
      "text/plain": [
       "                         id                        name  \\\n",
       "0  4db8b8211e7206c23d0ece7d  Blossom Chinese Restaurant   \n",
       "\n",
       "                                          categories    referralId  hasPerk  \\\n",
       "0  [{'id': '4bf58dd8d48988d145941735', 'name': 'C...  v-1606676071    False   \n",
       "\n",
       "   location.lat  location.lng  \\\n",
       "0     43.730821    -79.465673   \n",
       "\n",
       "                             location.labeledLatLngs  location.distance  \\\n",
       "0  [{'label': 'display', 'lat': 43.73082072410727...                538   \n",
       "\n",
       "  location.cc location.city location.state location.country  \\\n",
       "0          CA       Toronto             ON           Canada   \n",
       "\n",
       "  location.formattedAddress  \n",
       "0      [Toronto ON, Canada]  "
      ]
     },
     "execution_count": 57,
     "metadata": {},
     "output_type": "execute_result"
    }
   ],
   "source": [
    "# assign relevant part of JSON to venues\n",
    "venues = results['response']['venues']\n",
    "\n",
    "# tranform venues into a dataframe\n",
    "df_chinese = json_normalize(venues)\n",
    "df_chinese.head()"
   ]
  },
  {
   "cell_type": "code",
   "execution_count": 58,
   "metadata": {},
   "outputs": [
    {
     "data": {
      "text/html": [
       "<div>\n",
       "<style scoped>\n",
       "    .dataframe tbody tr th:only-of-type {\n",
       "        vertical-align: middle;\n",
       "    }\n",
       "\n",
       "    .dataframe tbody tr th {\n",
       "        vertical-align: top;\n",
       "    }\n",
       "\n",
       "    .dataframe thead th {\n",
       "        text-align: right;\n",
       "    }\n",
       "</style>\n",
       "<table border=\"1\" class=\"dataframe\">\n",
       "  <thead>\n",
       "    <tr style=\"text-align: right;\">\n",
       "      <th></th>\n",
       "      <th>name</th>\n",
       "      <th>categories</th>\n",
       "      <th>lat</th>\n",
       "      <th>lng</th>\n",
       "      <th>labeledLatLngs</th>\n",
       "      <th>distance</th>\n",
       "      <th>cc</th>\n",
       "      <th>city</th>\n",
       "      <th>state</th>\n",
       "      <th>country</th>\n",
       "      <th>formattedAddress</th>\n",
       "      <th>id</th>\n",
       "    </tr>\n",
       "  </thead>\n",
       "  <tbody>\n",
       "    <tr>\n",
       "      <th>0</th>\n",
       "      <td>Blossom Chinese Restaurant</td>\n",
       "      <td>Chinese Restaurant</td>\n",
       "      <td>43.730821</td>\n",
       "      <td>-79.465673</td>\n",
       "      <td>[{'label': 'display', 'lat': 43.73082072410727...</td>\n",
       "      <td>538</td>\n",
       "      <td>CA</td>\n",
       "      <td>Toronto</td>\n",
       "      <td>ON</td>\n",
       "      <td>Canada</td>\n",
       "      <td>[Toronto ON, Canada]</td>\n",
       "      <td>4db8b8211e7206c23d0ece7d</td>\n",
       "    </tr>\n",
       "  </tbody>\n",
       "</table>\n",
       "</div>"
      ],
      "text/plain": [
       "                         name          categories        lat        lng  \\\n",
       "0  Blossom Chinese Restaurant  Chinese Restaurant  43.730821 -79.465673   \n",
       "\n",
       "                                      labeledLatLngs  distance  cc     city  \\\n",
       "0  [{'label': 'display', 'lat': 43.73082072410727...       538  CA  Toronto   \n",
       "\n",
       "  state country      formattedAddress                        id  \n",
       "0    ON  Canada  [Toronto ON, Canada]  4db8b8211e7206c23d0ece7d  "
      ]
     },
     "execution_count": 58,
     "metadata": {},
     "output_type": "execute_result"
    }
   ],
   "source": [
    "# keep only columns that include venue name, and anything that is associated with location\n",
    "filtered_columns = ['name', 'categories'] + [col for col in df_chinese.columns if col.startswith('location.')] + ['id']\n",
    "dataframe_filtered = df_chinese.loc[:, filtered_columns]\n",
    "\n",
    "# function that extracts the category of the venue\n",
    "def get_category_type(row):\n",
    "    try:\n",
    "        categories_list = row['categories']\n",
    "    except:\n",
    "        categories_list = row['venue.categories']\n",
    "        \n",
    "    if len(categories_list) == 0:\n",
    "        return None\n",
    "    else:\n",
    "        return categories_list[0]['name']\n",
    "\n",
    "# filter the category for each row\n",
    "dataframe_filtered['categories'] = dataframe_filtered.apply(get_category_type, axis=1)\n",
    "\n",
    "# clean column names by keeping only last term\n",
    "dataframe_filtered.columns = [column.split('.')[-1] for column in dataframe_filtered.columns]\n",
    "\n",
    "dataframe_filtered"
   ]
  },
  {
   "cell_type": "code",
   "execution_count": 60,
   "metadata": {
    "scrolled": true
   },
   "outputs": [
    {
     "data": {
      "text/html": [
       "<div style=\"width:100%;\"><div style=\"position:relative;width:100%;height:0;padding-bottom:60%;\"><span style=\"color:#565656\">Make this Notebook Trusted to load map: File -> Trust Notebook</span><iframe src=\"about:blank\" style=\"position:absolute;width:100%;height:100%;left:0;top:0;border:none !important;\" data-html=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 onload=\"this.contentDocument.open();this.contentDocument.write(atob(this.getAttribute('data-html')));this.contentDocument.close();\" allowfullscreen webkitallowfullscreen mozallowfullscreen></iframe></div></div>"
      ],
      "text/plain": [
       "<folium.folium.Map at 0x7fbf380d0e50>"
      ]
     },
     "execution_count": 60,
     "metadata": {},
     "output_type": "execute_result"
    }
   ],
   "source": [
    "venues_map = folium.Map(location=[latitude, longitude], zoom_start=13) # generate map centred around the Conrad Hotel\n",
    "\n",
    "# add a red circle marker to represent the Conrad Hotel\n",
    "folium.CircleMarker(\n",
    "    [latitude, longitude],\n",
    "    radius=10,\n",
    "    color='red',\n",
    "    popup='Wilson Avenue',\n",
    "    fill = True,\n",
    "    fill_color = 'red',\n",
    "    fill_opacity = 0.6\n",
    ").add_to(venues_map)\n",
    "\n",
    "# add the Chinese restaurants as blue circle markers\n",
    "for lat, lng, label in zip(dataframe_filtered.lat, dataframe_filtered.lng, dataframe_filtered.categories):\n",
    "    folium.CircleMarker(\n",
    "        [lat, lng],\n",
    "        radius=5,\n",
    "        color='blue',\n",
    "        popup=label,\n",
    "        fill = True,\n",
    "        fill_color='blue',\n",
    "        fill_opacity=0.6\n",
    "    ).add_to(venues_map)\n",
    "\n",
    "# display map\n",
    "venues_map"
   ]
  },
  {
   "cell_type": "markdown",
   "metadata": {},
   "source": [
    "We see that there is indeed a Chinese Retaurant on Wilson Avenue."
   ]
  }
 ],
 "metadata": {
  "kernelspec": {
   "display_name": "Python 3.7",
   "language": "python",
   "name": "python3"
  },
  "language_info": {
   "codemirror_mode": {
    "name": "ipython",
    "version": 3
   },
   "file_extension": ".py",
   "mimetype": "text/x-python",
   "name": "python",
   "nbconvert_exporter": "python",
   "pygments_lexer": "ipython3",
   "version": "3.7.9"
  }
 },
 "nbformat": 4,
 "nbformat_minor": 1
}
